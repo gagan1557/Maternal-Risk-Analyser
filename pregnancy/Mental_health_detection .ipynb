{
 "cells": [
  {
   "cell_type": "markdown",
   "id": "9bbb81b4",
   "metadata": {
    "papermill": {
     "duration": 0.006346,
     "end_time": "2024-05-20T21:57:55.777967",
     "exception": false,
     "start_time": "2024-05-20T21:57:55.771621",
     "status": "completed"
    },
    "tags": []
   },
   "source": [
    "### Presenting the data and preparing it for training the classifier using XGBoost version 2\n",
    "\n",
    "\n",
    "\n",
    "\n"
   ]
  },
  {
   "cell_type": "code",
   "execution_count": 1,
   "id": "5aaf118c",
   "metadata": {
    "execution": {
     "iopub.execute_input": "2024-05-20T21:57:55.791274Z",
     "iopub.status.busy": "2024-05-20T21:57:55.790902Z",
     "iopub.status.idle": "2024-05-20T21:57:56.652050Z",
     "shell.execute_reply": "2024-05-20T21:57:56.650798Z"
    },
    "papermill": {
     "duration": 0.870851,
     "end_time": "2024-05-20T21:57:56.654827",
     "exception": false,
     "start_time": "2024-05-20T21:57:55.783976",
     "status": "completed"
    },
    "tags": []
   },
   "outputs": [],
   "source": [
    "import pandas as pd"
   ]
  },
  {
   "cell_type": "code",
   "execution_count": 2,
   "id": "3942937a",
   "metadata": {
    "execution": {
     "iopub.execute_input": "2024-05-20T21:57:56.666885Z",
     "iopub.status.busy": "2024-05-20T21:57:56.666345Z",
     "iopub.status.idle": "2024-05-20T21:57:56.694978Z",
     "shell.execute_reply": "2024-05-20T21:57:56.693817Z"
    },
    "papermill": {
     "duration": 0.037184,
     "end_time": "2024-05-20T21:57:56.697371",
     "exception": false,
     "start_time": "2024-05-20T21:57:56.660187",
     "status": "completed"
    },
    "tags": []
   },
   "outputs": [],
   "source": [
    "df = pd.read_csv(\"Mental_health.csv\")"
   ]
  },
  {
   "cell_type": "code",
   "execution_count": 3,
   "id": "4f06b367",
   "metadata": {
    "execution": {
     "iopub.execute_input": "2024-05-20T21:57:56.709879Z",
     "iopub.status.busy": "2024-05-20T21:57:56.709423Z",
     "iopub.status.idle": "2024-05-20T21:57:56.733521Z",
     "shell.execute_reply": "2024-05-20T21:57:56.732474Z"
    },
    "papermill": {
     "duration": 0.03303,
     "end_time": "2024-05-20T21:57:56.735653",
     "exception": false,
     "start_time": "2024-05-20T21:57:56.702623",
     "status": "completed"
    },
    "scrolled": true,
    "tags": []
   },
   "outputs": [
    {
     "data": {
      "text/html": [
       "<div>\n",
       "<style scoped>\n",
       "    .dataframe tbody tr th:only-of-type {\n",
       "        vertical-align: middle;\n",
       "    }\n",
       "\n",
       "    .dataframe tbody tr th {\n",
       "        vertical-align: top;\n",
       "    }\n",
       "\n",
       "    .dataframe thead th {\n",
       "        text-align: right;\n",
       "    }\n",
       "</style>\n",
       "<table border=\"1\" class=\"dataframe\">\n",
       "  <thead>\n",
       "    <tr style=\"text-align: right;\">\n",
       "      <th></th>\n",
       "      <th>Age</th>\n",
       "      <th>Feeling sad or Tearful</th>\n",
       "      <th>Irritable towards partner</th>\n",
       "      <th>Trouble sleeping at night</th>\n",
       "      <th>Problems concentrating or making decision</th>\n",
       "      <th>Overeating or loss of appetite</th>\n",
       "      <th>Feeling anxious</th>\n",
       "      <th>Feeling of guilt</th>\n",
       "      <th>Problems of bonding</th>\n",
       "    </tr>\n",
       "  </thead>\n",
       "  <tbody>\n",
       "    <tr>\n",
       "      <th>0</th>\n",
       "      <td>18-30</td>\n",
       "      <td>Yes</td>\n",
       "      <td>Yes</td>\n",
       "      <td>Two or more days a week</td>\n",
       "      <td>Yes</td>\n",
       "      <td>Yes</td>\n",
       "      <td>Yes</td>\n",
       "      <td>No</td>\n",
       "      <td>Yes</td>\n",
       "    </tr>\n",
       "    <tr>\n",
       "      <th>1</th>\n",
       "      <td>30-40</td>\n",
       "      <td>Yes</td>\n",
       "      <td>No</td>\n",
       "      <td>No</td>\n",
       "      <td>Yes</td>\n",
       "      <td>Yes</td>\n",
       "      <td>No</td>\n",
       "      <td>Yes</td>\n",
       "      <td>Yes</td>\n",
       "    </tr>\n",
       "    <tr>\n",
       "      <th>2</th>\n",
       "      <td>18-30</td>\n",
       "      <td>Yes</td>\n",
       "      <td>No</td>\n",
       "      <td>Yes</td>\n",
       "      <td>Yes</td>\n",
       "      <td>Yes</td>\n",
       "      <td>Yes</td>\n",
       "      <td>No</td>\n",
       "      <td>Sometimes</td>\n",
       "    </tr>\n",
       "    <tr>\n",
       "      <th>3</th>\n",
       "      <td>18-30</td>\n",
       "      <td>Yes</td>\n",
       "      <td>Yes</td>\n",
       "      <td>Yes</td>\n",
       "      <td>Yes</td>\n",
       "      <td>No</td>\n",
       "      <td>Yes</td>\n",
       "      <td>Maybe</td>\n",
       "      <td>No</td>\n",
       "    </tr>\n",
       "    <tr>\n",
       "      <th>4</th>\n",
       "      <td>30-40</td>\n",
       "      <td>Yes</td>\n",
       "      <td>No</td>\n",
       "      <td>Two or more days a week</td>\n",
       "      <td>Yes</td>\n",
       "      <td>No</td>\n",
       "      <td>Yes</td>\n",
       "      <td>No</td>\n",
       "      <td>Yes</td>\n",
       "    </tr>\n",
       "  </tbody>\n",
       "</table>\n",
       "</div>"
      ],
      "text/plain": [
       "     Age Feeling sad or Tearful Irritable towards partner  \\\n",
       "0  18-30                    Yes                       Yes   \n",
       "1  30-40                    Yes                        No   \n",
       "2  18-30                    Yes                        No   \n",
       "3  18-30                    Yes                       Yes   \n",
       "4  30-40                    Yes                        No   \n",
       "\n",
       "  Trouble sleeping at night Problems concentrating or making decision  \\\n",
       "0   Two or more days a week                                       Yes   \n",
       "1                        No                                       Yes   \n",
       "2                       Yes                                       Yes   \n",
       "3                       Yes                                       Yes   \n",
       "4   Two or more days a week                                       Yes   \n",
       "\n",
       "  Overeating or loss of appetite Feeling anxious Feeling of guilt  \\\n",
       "0                            Yes             Yes               No   \n",
       "1                            Yes              No              Yes   \n",
       "2                            Yes             Yes               No   \n",
       "3                             No             Yes            Maybe   \n",
       "4                             No             Yes               No   \n",
       "\n",
       "  Problems of bonding   \n",
       "0                  Yes  \n",
       "1                  Yes  \n",
       "2            Sometimes  \n",
       "3                   No  \n",
       "4                  Yes  "
      ]
     },
     "execution_count": 3,
     "metadata": {},
     "output_type": "execute_result"
    }
   ],
   "source": [
    "df.head()"
   ]
  },
  {
   "cell_type": "markdown",
   "id": "00199e2a",
   "metadata": {
    "papermill": {
     "duration": 0.005286,
     "end_time": "2024-05-20T21:57:56.746425",
     "exception": false,
     "start_time": "2024-05-20T21:57:56.741139",
     "status": "completed"
    },
    "tags": []
   },
   "source": [
    "#### Replies with incomplete data removed"
   ]
  },
  {
   "cell_type": "code",
   "execution_count": 4,
   "id": "33ef391f",
   "metadata": {
    "execution": {
     "iopub.execute_input": "2024-05-20T21:57:56.759060Z",
     "iopub.status.busy": "2024-05-20T21:57:56.758625Z",
     "iopub.status.idle": "2024-05-20T21:57:56.768753Z",
     "shell.execute_reply": "2024-05-20T21:57:56.767798Z"
    },
    "papermill": {
     "duration": 0.018956,
     "end_time": "2024-05-20T21:57:56.770905",
     "exception": false,
     "start_time": "2024-05-20T21:57:56.751949",
     "status": "completed"
    },
    "tags": []
   },
   "outputs": [],
   "source": [
    "df = df.dropna()"
   ]
  },
  {
   "cell_type": "markdown",
   "id": "ad3a038d",
   "metadata": {
    "papermill": {
     "duration": 0.005158,
     "end_time": "2024-05-20T21:57:56.781472",
     "exception": false,
     "start_time": "2024-05-20T21:57:56.776314",
     "status": "completed"
    },
    "tags": []
   },
   "source": [
    "#### \"Timestamp.column\" removed\n",
    "\n"
   ]
  },
  {
   "cell_type": "code",
   "execution_count": 5,
   "id": "ee49aaf6",
   "metadata": {
    "execution": {
     "iopub.execute_input": "2024-05-20T21:57:56.816016Z",
     "iopub.status.busy": "2024-05-20T21:57:56.815635Z",
     "iopub.status.idle": "2024-05-20T21:57:56.829713Z",
     "shell.execute_reply": "2024-05-20T21:57:56.828978Z"
    },
    "papermill": {
     "duration": 0.022894,
     "end_time": "2024-05-20T21:57:56.831762",
     "exception": false,
     "start_time": "2024-05-20T21:57:56.808868",
     "status": "completed"
    },
    "scrolled": true,
    "tags": []
   },
   "outputs": [
    {
     "data": {
      "text/html": [
       "<div>\n",
       "<style scoped>\n",
       "    .dataframe tbody tr th:only-of-type {\n",
       "        vertical-align: middle;\n",
       "    }\n",
       "\n",
       "    .dataframe tbody tr th {\n",
       "        vertical-align: top;\n",
       "    }\n",
       "\n",
       "    .dataframe thead th {\n",
       "        text-align: right;\n",
       "    }\n",
       "</style>\n",
       "<table border=\"1\" class=\"dataframe\">\n",
       "  <thead>\n",
       "    <tr style=\"text-align: right;\">\n",
       "      <th></th>\n",
       "      <th>Age</th>\n",
       "      <th>Feeling sad or Tearful</th>\n",
       "      <th>Irritable towards partner</th>\n",
       "      <th>Trouble sleeping at night</th>\n",
       "      <th>Problems concentrating or making decision</th>\n",
       "      <th>Overeating or loss of appetite</th>\n",
       "      <th>Feeling anxious</th>\n",
       "      <th>Feeling of guilt</th>\n",
       "      <th>Problems of bonding</th>\n",
       "    </tr>\n",
       "  </thead>\n",
       "  <tbody>\n",
       "    <tr>\n",
       "      <th>0</th>\n",
       "      <td>18-30</td>\n",
       "      <td>Yes</td>\n",
       "      <td>Yes</td>\n",
       "      <td>Two or more days a week</td>\n",
       "      <td>Yes</td>\n",
       "      <td>Yes</td>\n",
       "      <td>Yes</td>\n",
       "      <td>No</td>\n",
       "      <td>Yes</td>\n",
       "    </tr>\n",
       "    <tr>\n",
       "      <th>1</th>\n",
       "      <td>30-40</td>\n",
       "      <td>Yes</td>\n",
       "      <td>No</td>\n",
       "      <td>No</td>\n",
       "      <td>Yes</td>\n",
       "      <td>Yes</td>\n",
       "      <td>No</td>\n",
       "      <td>Yes</td>\n",
       "      <td>Yes</td>\n",
       "    </tr>\n",
       "    <tr>\n",
       "      <th>2</th>\n",
       "      <td>18-30</td>\n",
       "      <td>Yes</td>\n",
       "      <td>No</td>\n",
       "      <td>Yes</td>\n",
       "      <td>Yes</td>\n",
       "      <td>Yes</td>\n",
       "      <td>Yes</td>\n",
       "      <td>No</td>\n",
       "      <td>Sometimes</td>\n",
       "    </tr>\n",
       "    <tr>\n",
       "      <th>3</th>\n",
       "      <td>18-30</td>\n",
       "      <td>Yes</td>\n",
       "      <td>Yes</td>\n",
       "      <td>Yes</td>\n",
       "      <td>Yes</td>\n",
       "      <td>No</td>\n",
       "      <td>Yes</td>\n",
       "      <td>Maybe</td>\n",
       "      <td>No</td>\n",
       "    </tr>\n",
       "    <tr>\n",
       "      <th>4</th>\n",
       "      <td>30-40</td>\n",
       "      <td>Yes</td>\n",
       "      <td>No</td>\n",
       "      <td>Two or more days a week</td>\n",
       "      <td>Yes</td>\n",
       "      <td>No</td>\n",
       "      <td>Yes</td>\n",
       "      <td>No</td>\n",
       "      <td>Yes</td>\n",
       "    </tr>\n",
       "  </tbody>\n",
       "</table>\n",
       "</div>"
      ],
      "text/plain": [
       "     Age Feeling sad or Tearful Irritable towards partner  \\\n",
       "0  18-30                    Yes                       Yes   \n",
       "1  30-40                    Yes                        No   \n",
       "2  18-30                    Yes                        No   \n",
       "3  18-30                    Yes                       Yes   \n",
       "4  30-40                    Yes                        No   \n",
       "\n",
       "  Trouble sleeping at night Problems concentrating or making decision  \\\n",
       "0   Two or more days a week                                       Yes   \n",
       "1                        No                                       Yes   \n",
       "2                       Yes                                       Yes   \n",
       "3                       Yes                                       Yes   \n",
       "4   Two or more days a week                                       Yes   \n",
       "\n",
       "  Overeating or loss of appetite Feeling anxious Feeling of guilt  \\\n",
       "0                            Yes             Yes               No   \n",
       "1                            Yes              No              Yes   \n",
       "2                            Yes             Yes               No   \n",
       "3                             No             Yes            Maybe   \n",
       "4                             No             Yes               No   \n",
       "\n",
       "  Problems of bonding   \n",
       "0                  Yes  \n",
       "1                  Yes  \n",
       "2            Sometimes  \n",
       "3                   No  \n",
       "4                  Yes  "
      ]
     },
     "execution_count": 5,
     "metadata": {},
     "output_type": "execute_result"
    }
   ],
   "source": [
    "df.head()"
   ]
  },
  {
   "cell_type": "markdown",
   "id": "616d1d13",
   "metadata": {
    "papermill": {
     "duration": 0.014377,
     "end_time": "2024-05-20T21:58:00.502682",
     "exception": false,
     "start_time": "2024-05-20T21:58:00.488305",
     "status": "completed"
    },
    "tags": []
   },
   "source": [
    "#### Data mapping"
   ]
  },
  {
   "cell_type": "markdown",
   "id": "d0ffaf98",
   "metadata": {
    "papermill": {
     "duration": 0.014468,
     "end_time": "2024-05-20T21:58:00.532420",
     "exception": false,
     "start_time": "2024-05-20T21:58:00.517952",
     "status": "completed"
    },
    "tags": []
   },
   "source": [
    "The data has been mapped to make it easier to handle later in classifier training"
   ]
  },
  {
   "cell_type": "code",
   "execution_count": 6,
   "id": "75b81099",
   "metadata": {
    "execution": {
     "iopub.execute_input": "2024-05-20T21:58:00.564641Z",
     "iopub.status.busy": "2024-05-20T21:58:00.563955Z",
     "iopub.status.idle": "2024-05-20T21:58:00.583328Z",
     "shell.execute_reply": "2024-05-20T21:58:00.582433Z"
    },
    "papermill": {
     "duration": 0.038474,
     "end_time": "2024-05-20T21:58:00.585866",
     "exception": false,
     "start_time": "2024-05-20T21:58:00.547392",
     "status": "completed"
    },
    "tags": []
   },
   "outputs": [],
   "source": [
    "age_mapping = {'25-30': 1,\n",
    "               '30-35': 2,\n",
    "               '35-40': 3,\n",
    "               '40-45': 4,\n",
    "               '45-50': 5\n",
    "               }\n",
    "Irritable_mapping = {\n",
    "    'Yes': 2,\n",
    "    'No': 0,\n",
    "    'Sometimes': 1\n",
    "}\n",
    "Conc_mapping = {\n",
    "    'Yes': 2,\n",
    "    'No': 0,\n",
    "    'Often': 1\n",
    "}\n",
    "Anxious_mapping = {\n",
    "    'Yes': 1,\n",
    "    'No': 0\n",
    "}\n",
    "Bonding_mapping = {\n",
    "    'Yes': 2,\n",
    "    'No': 0,\n",
    "    'Sometimes': 1\n",
    "}\n",
    "\n",
    "Feeling_mapping = {\n",
    "    'Yes':2,\n",
    "    'Sometimes':1,\n",
    "    'No':0,\n",
    "}\n",
    "Sleeping_mapping = {\n",
    "    'Yes':2,\n",
    "    'Two or more days a week':1,\n",
    "    'No':0,\n",
    "}\n",
    "\n",
    "Overeating_mapping = {\n",
    "    'Yes':2,\n",
    "    'No':1,\n",
    "    'Not at all':0,\n",
    "}\n",
    "\n",
    "Guilt_mapping = {\n",
    "    'Yes':2,\n",
    "    'Maybe':1,\n",
    "    'No':0,\n",
    "}\n",
    "\n",
    "\n",
    "df['Age'] = df['Age'].map(age_mapping)\n",
    "df['Irritable towards partner'] = df['Irritable towards partner'].map(Irritable_mapping)\n",
    "df['Problems concentrating or making decision'] = df['Problems concentrating or making decision'].map(Conc_mapping)\n",
    "df['Feeling anxious'] = df['Feeling anxious'].map(Anxious_mapping)\n",
    "df['Problems of bonding '] = df['Problems of bonding '].map(Bonding_mapping)\n",
    "df['Feeling sad or Tearful'] = df['Feeling sad or Tearful'].map(Feeling_mapping)\n",
    "df['Trouble sleeping at night'] = df['Trouble sleeping at night'].map(Sleeping_mapping)\n",
    "df['Overeating or loss of appetite'] = df['Overeating or loss of appetite'].map(Overeating_mapping)\n",
    "df['Feeling of guilt'] = df['Feeling of guilt'].map(Guilt_mapping)\n"
   ]
  },
  {
   "cell_type": "markdown",
   "id": "6e0d4e28",
   "metadata": {
    "papermill": {
     "duration": 0.015157,
     "end_time": "2024-05-20T21:58:00.662686",
     "exception": false,
     "start_time": "2024-05-20T21:58:00.647529",
     "status": "completed"
    },
    "tags": []
   },
   "source": [
    "#### Checked how the 'Not interested to say' data from the 'Suicide attempt' column was mapped"
   ]
  },
  {
   "cell_type": "markdown",
   "id": "18735d6c",
   "metadata": {
    "papermill": {
     "duration": 0.014834,
     "end_time": "2024-05-20T21:58:00.693424",
     "exception": false,
     "start_time": "2024-05-20T21:58:00.678590",
     "status": "completed"
    },
    "tags": []
   },
   "source": [
    "This data has been marked as NaN (Not a Number). As noted in the following steps, this was the best solution for the \"Not interested to say\" response because its ambiguity made it difficult to assign a specific value."
   ]
  },
  {
   "cell_type": "code",
   "execution_count": 7,
   "id": "54564287",
   "metadata": {
    "execution": {
     "iopub.execute_input": "2024-05-20T21:58:00.725734Z",
     "iopub.status.busy": "2024-05-20T21:58:00.724547Z",
     "iopub.status.idle": "2024-05-20T21:58:00.733638Z",
     "shell.execute_reply": "2024-05-20T21:58:00.732700Z"
    },
    "papermill": {
     "duration": 0.027413,
     "end_time": "2024-05-20T21:58:00.735821",
     "exception": false,
     "start_time": "2024-05-20T21:58:00.708408",
     "status": "completed"
    },
    "tags": []
   },
   "outputs": [
    {
     "data": {
      "text/plain": [
       "Age                                          4.0\n",
       "Feeling sad or Tearful                       1.0\n",
       "Irritable towards partner                    2.0\n",
       "Trouble sleeping at night                    1.0\n",
       "Problems concentrating or making decision    0.0\n",
       "Overeating or loss of appetite               2.0\n",
       "Feeling anxious                              1.0\n",
       "Feeling of guilt                             0.0\n",
       "Problems of bonding                          1.0\n",
       "Name: 9, dtype: float64"
      ]
     },
     "execution_count": 7,
     "metadata": {},
     "output_type": "execute_result"
    }
   ],
   "source": [
    "df.iloc[9]"
   ]
  },
  {
   "cell_type": "markdown",
   "id": "71b900eb",
   "metadata": {
    "papermill": {
     "duration": 0.014775,
     "end_time": "2024-05-20T21:58:00.765493",
     "exception": false,
     "start_time": "2024-05-20T21:58:00.750718",
     "status": "completed"
    },
    "tags": []
   },
   "source": [
    "#### Splitting the data into test and training values\n",
    "\n"
   ]
  },
  {
   "cell_type": "code",
   "execution_count": 8,
   "id": "bc7534a2",
   "metadata": {
    "execution": {
     "iopub.execute_input": "2024-05-20T21:58:00.798450Z",
     "iopub.status.busy": "2024-05-20T21:58:00.798083Z",
     "iopub.status.idle": "2024-05-20T21:58:02.123541Z",
     "shell.execute_reply": "2024-05-20T21:58:02.122298Z"
    },
    "papermill": {
     "duration": 1.345298,
     "end_time": "2024-05-20T21:58:02.126145",
     "exception": false,
     "start_time": "2024-05-20T21:58:00.780847",
     "status": "completed"
    },
    "tags": []
   },
   "outputs": [],
   "source": [
    "from sklearn.model_selection import train_test_split\n",
    "\n",
    "X = df.drop(columns=['Feeling anxious']).values\n",
    "\n",
    "y = df['Feeling anxious'].values\n",
    "\n",
    "X_train, X_test, y_train, y_test = train_test_split(X, y, test_size=0.3, random_state=0, stratify=y)\n"
   ]
  },
  {
   "cell_type": "markdown",
   "id": "c3811f3a",
   "metadata": {
    "papermill": {
     "duration": 0.014679,
     "end_time": "2024-05-20T21:58:02.155945",
     "exception": false,
     "start_time": "2024-05-20T21:58:02.141266",
     "status": "completed"
    },
    "tags": []
   },
   "source": [
    "#### Classifier Science"
   ]
  },
  {
   "cell_type": "markdown",
   "id": "79d04b60",
   "metadata": {
    "papermill": {
     "duration": 0.014996,
     "end_time": "2024-05-20T21:58:02.186204",
     "exception": false,
     "start_time": "2024-05-20T21:58:02.171208",
     "status": "completed"
    },
    "tags": []
   },
   "source": [
    "The entire process includes preparing data, training the model, assessing the importance of features, and evaluating the model on test data. The bar chart provides a visual interpretation of the importance of each feature, which can be useful in understanding which features have the greatest impact on predicting the 'Feeling anxiety' target variable. The accuracy of the model and the F1 test result were also demonstrated."
   ]
  },
  {
   "cell_type": "code",
   "execution_count": 9,
   "id": "1282e8f9",
   "metadata": {},
   "outputs": [
    {
     "name": "stdout",
     "output_type": "stream",
     "text": [
      "Requirement already satisfied: xgboost in c:\\users\\jites\\anaconda1\\lib\\site-packages (2.0.3)\n",
      "Requirement already satisfied: numpy in c:\\users\\jites\\anaconda1\\lib\\site-packages (from xgboost) (1.24.3)\n",
      "Requirement already satisfied: scipy in c:\\users\\jites\\anaconda1\\lib\\site-packages (from xgboost) (1.11.1)\n",
      "Note: you may need to restart the kernel to use updated packages.\n"
     ]
    }
   ],
   "source": [
    "pip install xgboost"
   ]
  },
  {
   "cell_type": "code",
   "execution_count": 10,
   "id": "a7dfaf7d",
   "metadata": {
    "execution": {
     "iopub.execute_input": "2024-05-20T21:58:02.219117Z",
     "iopub.status.busy": "2024-05-20T21:58:02.218414Z",
     "iopub.status.idle": "2024-05-20T21:58:03.235831Z",
     "shell.execute_reply": "2024-05-20T21:58:03.234957Z"
    },
    "papermill": {
     "duration": 1.036666,
     "end_time": "2024-05-20T21:58:03.237963",
     "exception": false,
     "start_time": "2024-05-20T21:58:02.201297",
     "status": "completed"
    },
    "tags": []
   },
   "outputs": [
    {
     "name": "stdout",
     "output_type": "stream",
     "text": [
      " 1) Feeling of guilt               0.298610\n",
      " 2) Irritable towards partner      0.136112\n",
      " 3) Feeling sad or Tearful         0.122072\n",
      " 4) Problems of bonding            0.106075\n",
      " 5) Trouble sleeping at night      0.105553\n",
      " 6) Problems concentrating or making decision 0.096681\n",
      " 7) Overeating or loss of appetite 0.071988\n",
      " 8) Age                            0.062909\n"
     ]
    },
    {
     "data": {
      "image/png": "[encoded data removed]",
      "text/plain": [
       "<Figure size 1000x600 with 1 Axes>"
      ]
     },
     "metadata": {},
     "output_type": "display_data"
    },
    {
     "name": "stdout",
     "output_type": "stream",
     "text": [
      "Model Accuracy on Test Data: 0.9621\n",
      "Model F1 Score on Test Data: 0.9705\n"
     ]
    }
   ],
   "source": [
    "import numpy as np\n",
    "import matplotlib.pyplot as plt\n",
    "import xgboost as xgb\n",
    "import pickle\n",
    "from sklearn.model_selection import train_test_split\n",
    "from sklearn.metrics import accuracy_score\n",
    "\n",
    "feat_labels = df.drop(columns=['Feeling anxious']).columns\n",
    "\n",
    "\n",
    "X = df.drop(columns=['Feeling anxious']).values\n",
    "\n",
    "\n",
    "y = df['Feeling anxious'].values\n",
    "\n",
    "X_train, X_test, y_train, y_test = train_test_split(X, y, test_size=0.3, random_state=0, stratify=y)\n",
    "\n",
    "xgb_model = xgb.XGBClassifier(n_estimators=1000, random_state=1, n_jobs=-1)\n",
    "\n",
    "xgb_model.fit(X_train, y_train)\n",
    "\n",
    "\n",
    "importances = xgb_model.feature_importances_\n",
    "indices = np.argsort(importances)[::-1]\n",
    "\n",
    "for f in range(X_train.shape[1]):\n",
    "    print(\"%2d) %-*s %f\" % (f + 1, 30, feat_labels[indices[f]], importances[indices[f]]))\n",
    "\n",
    "plt.figure(figsize=(10, 6))\n",
    "plt.bar(range(X_train.shape[1]), importances[indices], align='center')\n",
    "plt.xticks(range(X_train.shape[1]), feat_labels[indices], rotation=90)\n",
    "plt.xlabel('Feature')\n",
    "plt.ylabel('Importance')\n",
    "plt.title('Feature Importance')\n",
    "plt.tight_layout()\n",
    "plt.show()\n",
    "\n",
    "y_pred = xgb_model.predict(X_test)\n",
    "accuracy = accuracy_score(y_test, y_pred)\n",
    "print(f'Model Accuracy on Test Data: {accuracy:.4f}')\n",
    "\n",
    "from sklearn.metrics import f1_score\n",
    "\n",
    "f1 = f1_score(y_test, y_pred)\n",
    "print(f'Model F1 Score on Test Data: {f1:.4f}')"
   ]
  },
  {
   "cell_type": "code",
   "execution_count": 11,
   "id": "a4885532",
   "metadata": {},
   "outputs": [
    {
     "name": "stdout",
     "output_type": "stream",
     "text": [
      "Congrats! You are a fit mother, you just need to maintain it.\n"
     ]
    }
   ],
   "source": [
    "input_data = (5.0 ,1 ,1 ,1 ,0 ,1 ,1 ,0)\n",
    "#Yes \tNo \tNo \tYes \tYes \t\n",
    "# Change the input data to a numpy array\n",
    "input_data_as_numpy_array = np.asarray(input_data)\n",
    "\n",
    "# Reshape the numpy array as we are predicting for only one instance\n",
    "input_data_reshaped = input_data_as_numpy_array.reshape(1, -1)\n",
    "\n",
    "# Predict using the classifier\n",
    "prediction = xgb_model.predict(input_data_reshaped)\n",
    "\n",
    "\n",
    "\n",
    "if prediction[0] == 0:  # Accessing the first element directly\n",
    "    print('Congrats! You are a fit mother, you just need to maintain it.')\n",
    "else:\n",
    "    print('The patient requires happy pills to stay healthy')\n"
   ]
  },
  {
   "cell_type": "code",
   "execution_count": 12,
   "id": "2a39cc64",
   "metadata": {},
   "outputs": [
    {
     "data": {
      "text/html": [
       "<div>\n",
       "<style scoped>\n",
       "    .dataframe tbody tr th:only-of-type {\n",
       "        vertical-align: middle;\n",
       "    }\n",
       "\n",
       "    .dataframe tbody tr th {\n",
       "        vertical-align: top;\n",
       "    }\n",
       "\n",
       "    .dataframe thead th {\n",
       "        text-align: right;\n",
       "    }\n",
       "</style>\n",
       "<table border=\"1\" class=\"dataframe\">\n",
       "  <thead>\n",
       "    <tr style=\"text-align: right;\">\n",
       "      <th></th>\n",
       "      <th>Age</th>\n",
       "      <th>Feeling sad or Tearful</th>\n",
       "      <th>Irritable towards partner</th>\n",
       "      <th>Trouble sleeping at night</th>\n",
       "      <th>Problems concentrating or making decision</th>\n",
       "      <th>Overeating or loss of appetite</th>\n",
       "      <th>Feeling anxious</th>\n",
       "      <th>Feeling of guilt</th>\n",
       "      <th>Problems of bonding</th>\n",
       "    </tr>\n",
       "  </thead>\n",
       "  <tbody>\n",
       "    <tr>\n",
       "      <th>0</th>\n",
       "      <td>NaN</td>\n",
       "      <td>2</td>\n",
       "      <td>2</td>\n",
       "      <td>1</td>\n",
       "      <td>2</td>\n",
       "      <td>2</td>\n",
       "      <td>1</td>\n",
       "      <td>0</td>\n",
       "      <td>2</td>\n",
       "    </tr>\n",
       "    <tr>\n",
       "      <th>1</th>\n",
       "      <td>NaN</td>\n",
       "      <td>2</td>\n",
       "      <td>0</td>\n",
       "      <td>0</td>\n",
       "      <td>2</td>\n",
       "      <td>2</td>\n",
       "      <td>0</td>\n",
       "      <td>2</td>\n",
       "      <td>2</td>\n",
       "    </tr>\n",
       "    <tr>\n",
       "      <th>2</th>\n",
       "      <td>NaN</td>\n",
       "      <td>2</td>\n",
       "      <td>0</td>\n",
       "      <td>2</td>\n",
       "      <td>2</td>\n",
       "      <td>2</td>\n",
       "      <td>1</td>\n",
       "      <td>0</td>\n",
       "      <td>1</td>\n",
       "    </tr>\n",
       "    <tr>\n",
       "      <th>3</th>\n",
       "      <td>NaN</td>\n",
       "      <td>2</td>\n",
       "      <td>2</td>\n",
       "      <td>2</td>\n",
       "      <td>2</td>\n",
       "      <td>1</td>\n",
       "      <td>1</td>\n",
       "      <td>1</td>\n",
       "      <td>0</td>\n",
       "    </tr>\n",
       "    <tr>\n",
       "      <th>4</th>\n",
       "      <td>NaN</td>\n",
       "      <td>2</td>\n",
       "      <td>0</td>\n",
       "      <td>1</td>\n",
       "      <td>2</td>\n",
       "      <td>1</td>\n",
       "      <td>1</td>\n",
       "      <td>0</td>\n",
       "      <td>2</td>\n",
       "    </tr>\n",
       "    <tr>\n",
       "      <th>...</th>\n",
       "      <td>...</td>\n",
       "      <td>...</td>\n",
       "      <td>...</td>\n",
       "      <td>...</td>\n",
       "      <td>...</td>\n",
       "      <td>...</td>\n",
       "      <td>...</td>\n",
       "      <td>...</td>\n",
       "      <td>...</td>\n",
       "    </tr>\n",
       "    <tr>\n",
       "      <th>1498</th>\n",
       "      <td>4.0</td>\n",
       "      <td>2</td>\n",
       "      <td>0</td>\n",
       "      <td>1</td>\n",
       "      <td>0</td>\n",
       "      <td>1</td>\n",
       "      <td>1</td>\n",
       "      <td>1</td>\n",
       "      <td>1</td>\n",
       "    </tr>\n",
       "    <tr>\n",
       "      <th>1499</th>\n",
       "      <td>1.0</td>\n",
       "      <td>1</td>\n",
       "      <td>0</td>\n",
       "      <td>0</td>\n",
       "      <td>1</td>\n",
       "      <td>1</td>\n",
       "      <td>1</td>\n",
       "      <td>1</td>\n",
       "      <td>2</td>\n",
       "    </tr>\n",
       "    <tr>\n",
       "      <th>1500</th>\n",
       "      <td>1.0</td>\n",
       "      <td>0</td>\n",
       "      <td>1</td>\n",
       "      <td>1</td>\n",
       "      <td>0</td>\n",
       "      <td>1</td>\n",
       "      <td>0</td>\n",
       "      <td>2</td>\n",
       "      <td>0</td>\n",
       "    </tr>\n",
       "    <tr>\n",
       "      <th>1501</th>\n",
       "      <td>1.0</td>\n",
       "      <td>0</td>\n",
       "      <td>1</td>\n",
       "      <td>2</td>\n",
       "      <td>1</td>\n",
       "      <td>1</td>\n",
       "      <td>1</td>\n",
       "      <td>0</td>\n",
       "      <td>0</td>\n",
       "    </tr>\n",
       "    <tr>\n",
       "      <th>1502</th>\n",
       "      <td>5.0</td>\n",
       "      <td>1</td>\n",
       "      <td>1</td>\n",
       "      <td>1</td>\n",
       "      <td>0</td>\n",
       "      <td>1</td>\n",
       "      <td>0</td>\n",
       "      <td>1</td>\n",
       "      <td>0</td>\n",
       "    </tr>\n",
       "  </tbody>\n",
       "</table>\n",
       "<p>1491 rows × 9 columns</p>\n",
       "</div>"
      ],
      "text/plain": [
       "      Age  Feeling sad or Tearful  Irritable towards partner  \\\n",
       "0     NaN                       2                          2   \n",
       "1     NaN                       2                          0   \n",
       "2     NaN                       2                          0   \n",
       "3     NaN                       2                          2   \n",
       "4     NaN                       2                          0   \n",
       "...   ...                     ...                        ...   \n",
       "1498  4.0                       2                          0   \n",
       "1499  1.0                       1                          0   \n",
       "1500  1.0                       0                          1   \n",
       "1501  1.0                       0                          1   \n",
       "1502  5.0                       1                          1   \n",
       "\n",
       "      Trouble sleeping at night  Problems concentrating or making decision  \\\n",
       "0                             1                                          2   \n",
       "1                             0                                          2   \n",
       "2                             2                                          2   \n",
       "3                             2                                          2   \n",
       "4                             1                                          2   \n",
       "...                         ...                                        ...   \n",
       "1498                          1                                          0   \n",
       "1499                          0                                          1   \n",
       "1500                          1                                          0   \n",
       "1501                          2                                          1   \n",
       "1502                          1                                          0   \n",
       "\n",
       "      Overeating or loss of appetite  Feeling anxious  Feeling of guilt  \\\n",
       "0                                  2                1                 0   \n",
       "1                                  2                0                 2   \n",
       "2                                  2                1                 0   \n",
       "3                                  1                1                 1   \n",
       "4                                  1                1                 0   \n",
       "...                              ...              ...               ...   \n",
       "1498                               1                1                 1   \n",
       "1499                               1                1                 1   \n",
       "1500                               1                0                 2   \n",
       "1501                               1                1                 0   \n",
       "1502                               1                0                 1   \n",
       "\n",
       "      Problems of bonding   \n",
       "0                        2  \n",
       "1                        2  \n",
       "2                        1  \n",
       "3                        0  \n",
       "4                        2  \n",
       "...                    ...  \n",
       "1498                     1  \n",
       "1499                     2  \n",
       "1500                     0  \n",
       "1501                     0  \n",
       "1502                     0  \n",
       "\n",
       "[1491 rows x 9 columns]"
      ]
     },
     "execution_count": 12,
     "metadata": {},
     "output_type": "execute_result"
    }
   ],
   "source": [
    "# for one the test case ->1.0 ,1 ,0 ,0 ,1 ,1 ,1,2\n",
    "# for zero the test case ->5.0 ,1 ,1 ,1 ,0 ,1 ,1 ,0\n",
    "df"
   ]
  },
  {
   "cell_type": "code",
   "execution_count": null,
   "id": "50180497",
   "metadata": {},
   "outputs": [],
   "source": []
  },
  {
   "cell_type": "code",
   "execution_count": null,
   "id": "aeb7a857",
   "metadata": {},
   "outputs": [],
   "source": []
  }
 ],
 "metadata": {
  "kaggle": {
   "accelerator": "none",
   "dataSources": [
    {
     "datasetId": 2830731,
     "sourceId": 4881865,
     "sourceType": "datasetVersion"
    }
   ],
   "dockerImageVersionId": 30698,
   "isGpuEnabled": false,
   "isInternetEnabled": false,
   "language": "python",
   "sourceType": "notebook"
  },
  "kernelspec": {
   "display_name": "Python 3 (ipykernel)",
   "language": "python",
   "name": "python3"
  },
  "language_info": {
   "codemirror_mode": {
    "name": "ipython",
    "version": 3
   },
   "file_extension": ".py",
   "mimetype": "text/x-python",
   "name": "python",
   "nbconvert_exporter": "python",
   "pygments_lexer": "ipython3",
   "version": "3.12.3"
  },
  "papermill": {
   "default_parameters": {},
   "duration": 10.835702,
   "end_time": "2024-05-20T21:58:03.876642",
   "environment_variables": {},
   "exception": null,
   "input_path": "__notebook__.ipynb",
   "output_path": "__notebook__.ipynb",
   "parameters": {},
   "start_time": "2024-05-20T21:57:53.040940",
   "version": "2.5.0"
  }
 },
 "nbformat": 4,
 "nbformat_minor": 5
}
